{
 "cells": [
  {
   "cell_type": "markdown",
   "metadata": {},
   "source": [
    "# Magic Cloak"
   ]
  },
  {
   "cell_type": "code",
   "execution_count": 1,
   "metadata": {},
   "outputs": [],
   "source": [
    "import numpy as np\n",
    "import cv2\n",
    "import time"
   ]
  },
  {
   "cell_type": "code",
   "execution_count": 2,
   "metadata": {},
   "outputs": [],
   "source": [
    "cap = cv2.VideoCapture(0)\n",
    "time.sleep(5)\n",
    "background=0\n",
    "for i in range(30):\n",
    "    ret,background = cap.read()\n",
    "\n",
    "#flipping background for user\n",
    "background = np.flip(background,axis=1)\n",
    "while(cap.isOpened()):\n",
    "    ret,img = cap.read()\n",
    "    \n",
    "    img = np.flip(img,axis=1)\n",
    "    \n",
    "    #converting rgb to hsv\n",
    "    hsv = cv2.cvtColor(img,cv2.COLOR_BGR2HSV)\n",
    "    value = (35,35)\n",
    "    \n",
    "    #smoothening of the image\n",
    "    blur = cv2.GaussianBlur(hsv,value,0)\n",
    "    \n",
    "    #lower range for red\n",
    "    lower_red = np.array([0,120,70])\n",
    "    upper_red = np.array([10,255,255])\n",
    "    mask1 = cv2.inRange(hsv,lower_red,upper_red)\n",
    "    \n",
    "    #upper range for red\n",
    "    lower_red = np.array([170,120,70])\n",
    "    upper_red = np.array([180,255,255])\n",
    "    mask2 = cv2.inRange(hsv,lower_red,upper_red)\n",
    "    \n",
    "    mask = mask1+mask2\n",
    "    #MORPH_OPEN to remove additional noises around the cloak\n",
    "    mask = cv2.morphologyEx(mask,cv2.MORPH_OPEN, np.ones((5,5),np.uint8))\n",
    "    \n",
    "    #replacing cloak with background\n",
    "    img[np.where(mask==255)] = background[np.where(mask==255)]\n",
    "    cv2.imshow(\"IT'S MAGIC!!!\",img)\n",
    "    if cv2.waitKey(33) == ord('q'):\n",
    "        break\n",
    "\n",
    "cv2.destroyAllWindows()\n",
    "    "
   ]
  }
 ],
 "metadata": {
  "kernelspec": {
   "display_name": "Python 3",
   "language": "python",
   "name": "python3"
  },
  "language_info": {
   "codemirror_mode": {
    "name": "ipython",
    "version": 3
   },
   "file_extension": ".py",
   "mimetype": "text/x-python",
   "name": "python",
   "nbconvert_exporter": "python",
   "pygments_lexer": "ipython3",
   "version": "3.7.9"
  }
 },
 "nbformat": 4,
 "nbformat_minor": 4
}
